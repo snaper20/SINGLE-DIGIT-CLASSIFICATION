{
 "cells": [
  {
   "cell_type": "code",
   "execution_count": 1,
   "metadata": {},
   "outputs": [],
   "source": [
    "import numpy as np\n",
    "import tensorflow as tf"
   ]
  },
  {
   "cell_type": "code",
   "execution_count": 2,
   "metadata": {},
   "outputs": [],
   "source": [
    "mnist = tf.keras.datasets.mnist"
   ]
  },
  {
   "cell_type": "code",
   "execution_count": 3,
   "metadata": {},
   "outputs": [],
   "source": [
    "(x_train, y_train), (x_test, y_test) = mnist.load_data()"
   ]
  },
  {
   "cell_type": "code",
   "execution_count": 4,
   "metadata": {},
   "outputs": [
    {
     "data": {
      "image/png": "[encoded data removed]",
      "text/plain": [
       "<Figure size 640x480 with 10 Axes>"
      ]
     },
     "metadata": {},
     "output_type": "display_data"
    }
   ],
   "source": [
    "import matplotlib.pyplot as plt\n",
    "\n",
    "# Display a few sample images from the MNIST dataset\n",
    "num_samples = 10\n",
    "for i in range(num_samples):\n",
    "    plt.subplot(1, num_samples, i + 1)\n",
    "    #other than this 'viridis', we have 'jet','hot,'cool','spring,'summer','autumn','gray'\n",
    "    plt.imshow(x_train[i], cmap='viridis')\n",
    "    plt.title(f\"Label: {y_train[i]}\")\n",
    "    plt.axis('off')\n",
    "\n",
    "plt.show()\n"
   ]
  },
  {
   "cell_type": "code",
   "execution_count": null,
   "metadata": {},
   "outputs": [],
   "source": []
  },
  {
   "cell_type": "code",
   "execution_count": 5,
   "metadata": {},
   "outputs": [],
   "source": [
    "x_train = x_train.reshape((-1, 28, 28, 1))\n",
    "x_test = x_test.reshape((-1, 28, 28, 1))\n"
   ]
  },
  {
   "cell_type": "code",
   "execution_count": 6,
   "metadata": {},
   "outputs": [],
   "source": [
    "import tensorflow as tf\n",
    "from tensorflow.keras import layers, models\n"
   ]
  },
  {
   "cell_type": "code",
   "execution_count": null,
   "metadata": {},
   "outputs": [],
   "source": []
  },
  {
   "cell_type": "code",
   "execution_count": 7,
   "metadata": {},
   "outputs": [],
   "source": [
    "model = models.Sequential([\n",
    "    layers.Conv2D(6, (5, 5), activation='relu', input_shape=(28, 28, 1)),\n",
    "    layers.MaxPooling2D((2, 2)),\n",
    "    layers.Conv2D(64, (3, 3), activation='relu'),\n",
    "    layers.MaxPooling2D((2, 2)),\n",
    "    layers.Conv2D(64, (3, 3), activation='relu'),\n",
    "    layers.Flatten(),\n",
    "    layers.Dense(64, activation='relu'),\n",
    "    layers.Dense(10, activation='softmax')\n",
    "])\n"
   ]
  },
  {
   "cell_type": "code",
   "execution_count": 8,
   "metadata": {},
   "outputs": [],
   "source": [
    "model.compile(optimizer='Adam',               # Optimizer: Adam\n",
    "              loss='sparse_categorical_crossentropy', # Loss function: Sparse categorical crossentropy\n",
    "              metrics=['accuracy']) "
   ]
  },
  {
   "cell_type": "code",
   "execution_count": 9,
   "metadata": {},
   "outputs": [
    {
     "name": "stdout",
     "output_type": "stream",
     "text": [
      "Epoch 1/30\n",
      "1875/1875 [==============================] - 39s 20ms/step - loss: 0.2655 - accuracy: 0.9344 - val_loss: 0.0787 - val_accuracy: 0.9743\n",
      "Epoch 2/30\n",
      "1875/1875 [==============================] - 38s 20ms/step - loss: 0.0711 - accuracy: 0.9778 - val_loss: 0.0661 - val_accuracy: 0.9787\n",
      "Epoch 3/30\n",
      "1875/1875 [==============================] - 37s 20ms/step - loss: 0.0559 - accuracy: 0.9828 - val_loss: 0.0668 - val_accuracy: 0.9776\n",
      "Epoch 4/30\n",
      "1875/1875 [==============================] - 35s 19ms/step - loss: 0.0462 - accuracy: 0.9860 - val_loss: 0.0535 - val_accuracy: 0.9829\n",
      "Epoch 5/30\n",
      "1875/1875 [==============================] - 19s 10ms/step - loss: 0.0414 - accuracy: 0.9880 - val_loss: 0.0515 - val_accuracy: 0.9856\n",
      "Epoch 6/30\n",
      "1875/1875 [==============================] - 21s 11ms/step - loss: 0.0360 - accuracy: 0.9890 - val_loss: 0.0564 - val_accuracy: 0.9827\n",
      "Epoch 7/30\n",
      "1875/1875 [==============================] - 24s 13ms/step - loss: 0.0358 - accuracy: 0.9890 - val_loss: 0.0549 - val_accuracy: 0.9866\n",
      "Epoch 8/30\n",
      "1875/1875 [==============================] - 24s 13ms/step - loss: 0.0291 - accuracy: 0.9915 - val_loss: 0.0505 - val_accuracy: 0.9855\n",
      "Epoch 9/30\n",
      "1875/1875 [==============================] - 21s 11ms/step - loss: 0.0294 - accuracy: 0.9913 - val_loss: 0.0558 - val_accuracy: 0.9849\n",
      "Epoch 10/30\n",
      "1875/1875 [==============================] - 22s 12ms/step - loss: 0.0282 - accuracy: 0.9918 - val_loss: 0.0712 - val_accuracy: 0.9839\n",
      "Epoch 11/30\n",
      "1875/1875 [==============================] - 23s 12ms/step - loss: 0.0280 - accuracy: 0.9918 - val_loss: 0.0722 - val_accuracy: 0.9856\n",
      "Epoch 12/30\n",
      "1875/1875 [==============================] - 27s 14ms/step - loss: 0.0226 - accuracy: 0.9935 - val_loss: 0.0684 - val_accuracy: 0.9868\n",
      "Epoch 13/30\n",
      "1875/1875 [==============================] - 24s 13ms/step - loss: 0.0256 - accuracy: 0.9930 - val_loss: 0.0612 - val_accuracy: 0.9870\n",
      "Epoch 14/30\n",
      "1875/1875 [==============================] - 24s 13ms/step - loss: 0.0256 - accuracy: 0.9930 - val_loss: 0.0572 - val_accuracy: 0.9866\n",
      "Epoch 15/30\n",
      "1875/1875 [==============================] - 21s 11ms/step - loss: 0.0249 - accuracy: 0.9939 - val_loss: 0.0585 - val_accuracy: 0.9893\n",
      "Epoch 16/30\n",
      "1875/1875 [==============================] - 22s 12ms/step - loss: 0.0213 - accuracy: 0.9939 - val_loss: 0.0525 - val_accuracy: 0.9879\n",
      "Epoch 17/30\n",
      "1875/1875 [==============================] - 23s 12ms/step - loss: 0.0208 - accuracy: 0.9941 - val_loss: 0.0745 - val_accuracy: 0.9862\n",
      "Epoch 18/30\n",
      "1875/1875 [==============================] - 23s 12ms/step - loss: 0.0239 - accuracy: 0.9937 - val_loss: 0.0766 - val_accuracy: 0.9862\n",
      "Epoch 19/30\n",
      "1875/1875 [==============================] - 23s 12ms/step - loss: 0.0237 - accuracy: 0.9943 - val_loss: 0.0746 - val_accuracy: 0.9862\n",
      "Epoch 20/30\n",
      "1875/1875 [==============================] - 21s 11ms/step - loss: 0.0206 - accuracy: 0.9948 - val_loss: 0.0796 - val_accuracy: 0.9867\n",
      "Epoch 21/30\n",
      "1875/1875 [==============================] - 20s 11ms/step - loss: 0.0216 - accuracy: 0.9948 - val_loss: 0.0757 - val_accuracy: 0.9886\n",
      "Epoch 22/30\n",
      "1875/1875 [==============================] - 20s 11ms/step - loss: 0.0193 - accuracy: 0.9956 - val_loss: 0.0745 - val_accuracy: 0.9864\n",
      "Epoch 23/30\n",
      "1875/1875 [==============================] - 22s 12ms/step - loss: 0.0235 - accuracy: 0.9946 - val_loss: 0.0883 - val_accuracy: 0.9859\n",
      "Epoch 24/30\n",
      "1875/1875 [==============================] - 23s 12ms/step - loss: 0.0198 - accuracy: 0.9952 - val_loss: 0.0869 - val_accuracy: 0.9860\n",
      "Epoch 25/30\n",
      "1875/1875 [==============================] - 21s 11ms/step - loss: 0.0236 - accuracy: 0.9946 - val_loss: 0.0939 - val_accuracy: 0.9861\n",
      "Epoch 26/30\n",
      "1875/1875 [==============================] - 21s 11ms/step - loss: 0.0198 - accuracy: 0.9954 - val_loss: 0.0997 - val_accuracy: 0.9880\n",
      "Epoch 27/30\n",
      "1875/1875 [==============================] - 28s 15ms/step - loss: 0.0209 - accuracy: 0.9957 - val_loss: 0.1094 - val_accuracy: 0.9859\n",
      "Epoch 28/30\n",
      "1875/1875 [==============================] - 27s 14ms/step - loss: 0.0272 - accuracy: 0.9947 - val_loss: 0.0832 - val_accuracy: 0.9876\n",
      "Epoch 29/30\n",
      "1875/1875 [==============================] - 14s 7ms/step - loss: 0.0269 - accuracy: 0.9946 - val_loss: 0.0906 - val_accuracy: 0.9881\n",
      "Epoch 30/30\n",
      "1875/1875 [==============================] - 13s 7ms/step - loss: 0.0166 - accuracy: 0.9964 - val_loss: 0.1002 - val_accuracy: 0.9884\n"
     ]
    },
    {
     "data": {
      "text/plain": [
       "<keras.src.callbacks.History at 0x2c976bdd610>"
      ]
     },
     "execution_count": 9,
     "metadata": {},
     "output_type": "execute_result"
    }
   ],
   "source": [
    "model.fit(x_train, y_train, epochs=30, validation_data=(x_test, y_test))\n"
   ]
  },
  {
   "cell_type": "code",
   "execution_count": 10,
   "metadata": {},
   "outputs": [
    {
     "name": "stdout",
     "output_type": "stream",
     "text": [
      "313/313 [==============================] - 1s 3ms/step - loss: 0.1002 - accuracy: 0.9884\n",
      "Test Loss: 0.10017459839582443\n",
      "Test Accuracy: 0.9883999824523926\n"
     ]
    }
   ],
   "source": [
    "test_loss, test_accuracy = model.evaluate(x_test, y_test)\n",
    "print('Test Loss:', test_loss)\n",
    "print('Test Accuracy:', test_accuracy)\n"
   ]
  },
  {
   "cell_type": "code",
   "execution_count": 11,
   "metadata": {},
   "outputs": [
    {
     "name": "stdout",
     "output_type": "stream",
     "text": [
      "INFO:tensorflow:Assets written to: handwritten.model\\assets\n"
     ]
    },
    {
     "name": "stderr",
     "output_type": "stream",
     "text": [
      "INFO:tensorflow:Assets written to: handwritten.model\\assets\n"
     ]
    }
   ],
   "source": [
    "model.save('handwritten.model')"
   ]
  },
  {
   "cell_type": "code",
   "execution_count": 12,
   "metadata": {},
   "outputs": [
    {
     "name": "stdout",
     "output_type": "stream",
     "text": [
      "1/1 [==============================] - 0s 109ms/step\n",
      "This digit is probably a 3\n"
     ]
    },
    {
     "data": {
      "image/png": "[encoded data removed]",
      "text/plain": [
       "<Figure size 640x480 with 1 Axes>"
      ]
     },
     "metadata": {},
     "output_type": "display_data"
    },
    {
     "name": "stdout",
     "output_type": "stream",
     "text": [
      "1/1 [==============================] - 0s 21ms/step\n",
      "This digit is probably a 8\n"
     ]
    },
    {
     "data": {
      "image/png": "[encoded data removed]",
      "text/plain": [
       "<Figure size 640x480 with 1 Axes>"
      ]
     },
     "metadata": {},
     "output_type": "display_data"
    },
    {
     "name": "stdout",
     "output_type": "stream",
     "text": [
      "1/1 [==============================] - 0s 18ms/step\n",
      "This digit is probably a 8\n"
     ]
    },
    {
     "data": {
      "image/png": "[encoded data removed]",
      "text/plain": [
       "<Figure size 640x480 with 1 Axes>"
      ]
     },
     "metadata": {},
     "output_type": "display_data"
    }
   ],
   "source": [
    "model=tf.keras.models.load_model('handwritten.model')\n",
    "import os\n",
    "import cv2\n",
    "image_number=1\n",
    "while os.path.isfile(f\"digits/digit{image_number}.png\"):\n",
    "    try:\n",
    "       img=cv2.imread(f\"digits/digit{image_number}.png\")[:,:,0]\n",
    "       img=np.invert(np.array([img]))   \n",
    "       prediction=model.predict(img)\n",
    "       print(f\"This digit is probably a {np.argmax(prediction)}\") \n",
    "       plt.imshow(img[0],cmap=plt.cm.binary)\n",
    "       plt.show()\n",
    "       image_number+=1   \n",
    "    except:\n",
    "        print(\"Error!\")  \n",
    "    finally:\n",
    "        image_number+=1         "
   ]
  },
  {
   "cell_type": "code",
   "execution_count": 13,
   "metadata": {},
   "outputs": [],
   "source": [
    "import tensorflow as tf\n",
    "import numpy as np\n",
    "import cv2\n",
    "\n",
    "# Load the trained model\n",
    "model = tf.keras.models.load_model(\"handwritten.model\")\n",
    "\n",
    "# Function to preprocess the image\n",
    "def preprocess_image(image):\n",
    "    # Resize the image to 28x28 pixels\n",
    "    image = cv2.resize(image, (28, 28))\n",
    "    # Convert the image to grayscale\n",
    "    image = cv2.cvtColor(image, cv2.COLOR_BGR2GRAY)\n",
    "    # Normalize the image\n",
    "    image = image / 255.0\n",
    "    # Reshape the image to match the input shape of the model\n",
    "    image = image.reshape(1, 28, 28, 1)\n",
    "    return image\n",
    "\n",
    "# Function to predict digit from image\n",
    "def predict_digit_from_image(image):\n",
    "    # Preprocess the image\n",
    "    processed_image = preprocess_image(image)\n",
    "    # Make prediction\n",
    "    prediction = model.predict(processed_image)\n",
    "    predicted_digit = np.argmax(prediction)\n",
    "    return predicted_digit\n"
   ]
  }
 ],
 "metadata": {
  "kernelspec": {
   "display_name": "Python 3",
   "language": "python",
   "name": "python3"
  },
  "language_info": {
   "codemirror_mode": {
    "name": "ipython",
    "version": 3
   },
   "file_extension": ".py",
   "mimetype": "text/x-python",
   "name": "python",
   "nbconvert_exporter": "python",
   "pygments_lexer": "ipython3",
   "version": "3.11.1"
  }
 },
 "nbformat": 4,
 "nbformat_minor": 2
}
